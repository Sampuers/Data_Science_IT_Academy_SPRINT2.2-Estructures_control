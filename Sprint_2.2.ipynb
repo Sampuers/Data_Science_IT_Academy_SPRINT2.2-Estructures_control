{
 "cells": [
  {
   "cell_type": "markdown",
   "id": "5bb44223",
   "metadata": {},
   "source": [
    "### *EXERCICI 1\n",
    "\n",
    "#### Crear una funció que et classifiqui una variable numèrica en funció de l’escala Suspès/Aprovat/Notable/Excel·lent.\n",
    "###### Recorda que Suspès < 5, Aprovat > 5 i < 7, Notable > 7 i < 9 i Excel·lent > 9.        "
   ]
  },
  {
   "cell_type": "code",
   "execution_count": 28,
   "id": "4ab466cd",
   "metadata": {},
   "outputs": [
    {
     "name": "stdout",
     "output_type": "stream",
     "text": [
      "La nota número 6 significa Aprobado\n"
     ]
    }
   ],
   "source": [
    "def my_function(nota):\n",
    "    if nota < 5: return \"Suspendido\"\n",
    "\n",
    "    elif nota >= 5 and nota < 7:\n",
    "        return \"Aprobado\"\n",
    "\n",
    "    elif nota >= 7 and nota < 9:\n",
    "        return \"Notable\"\n",
    "    else:\n",
    "        return \"Excelente\"\n",
    "\n",
    "    \n",
    "Nota = 6\n",
    "resultado = my_function(Nota)\n",
    "\n",
    "print(f\"La nota número {Nota} significa {resultado}\")"
   ]
  },
  {
   "cell_type": "markdown",
   "id": "826f40f0",
   "metadata": {},
   "source": [
    "### * EXERCICI 2\n",
    "\n",
    "#### Crea una funció que et pregunti dos números. T’ha de mostrar un missatge dient si el primer és més gran, el segon és més gran o són iguals."
   ]
  },
  {
   "cell_type": "code",
   "execution_count": 29,
   "id": "e1025a8d",
   "metadata": {},
   "outputs": [
    {
     "name": "stdout",
     "output_type": "stream",
     "text": [
      "Introduzca un número: 8\n",
      "Introduzca un segundo número: 8\n",
      "Los dos números son iguales.\n"
     ]
    }
   ],
   "source": [
    "def pregunta():\n",
    "    numero1 = int(input(\"Introduzca un número: \"))\n",
    "    numero2 = int(input(\"Introduzca un segundo número: \"))\n",
    "    \n",
    "    if numero1 > numero2:\n",
    "        print(\"Es más grande el primer número.\")\n",
    "        \n",
    "    elif numero1 < numero2:\n",
    "        print(\"Es más grande el segundo número.\")\n",
    "        \n",
    "    else: \n",
    "     \n",
    "        print(\"Los dos números son iguales.\")\n",
    "\n",
    "pregunta()\n",
    "        "
   ]
  },
  {
   "cell_type": "markdown",
   "id": "0a4a1bd4",
   "metadata": {},
   "source": [
    "### *EXERCICI 3\n",
    "\n",
    "#### Crea una funció que et pregunti el teu nom, i et demani un número. Si el número és 0, hauria de mostrar un missatge d’error. En cas contrari, hauria de mostrar el nom repetit tants cops com indiqui el número. Per exemple, “Joan Joan Joan”.\n",
    "\n",
    "\n"
   ]
  },
  {
   "cell_type": "code",
   "execution_count": 7,
   "id": "0f4993a3",
   "metadata": {},
   "outputs": [
    {
     "name": "stdout",
     "output_type": "stream",
     "text": [
      "Introduzca su nombre: Silvia \n",
      "Ahora introduce un número: 0\n",
      "Error! El número no puede ser cero.\n"
     ]
    }
   ],
   "source": [
    "def fun_pregunta():\n",
    "    nombre = input(\"Introduzca su nombre: \")\n",
    "    numero = int(input(\"Ahora introduce un número: \"))\n",
    "\n",
    "    if numero == 0:\n",
    "        print(\"Error! El número no puede ser cero.\")\n",
    "    else:\n",
    "        resultado = nombre * numero\n",
    "        print(resultado)\n",
    "\n",
    "fun_pregunta()\n"
   ]
  },
  {
   "cell_type": "markdown",
   "id": "7bcec598",
   "metadata": {},
   "source": [
    "### *EXERCICI 4\n",
    "\n",
    "#### Crea una funció que donada una llista qualsevol, et digui si és simètrica o no. Si ho és, que et digui quants elements té.\n",
    "\n"
   ]
  },
  {
   "cell_type": "code",
   "execution_count": 9,
   "id": "f35be5a5",
   "metadata": {},
   "outputs": [
    {
     "name": "stdout",
     "output_type": "stream",
     "text": [
      "Sí, es simétrica y contiene 5 elementos.\n"
     ]
    }
   ],
   "source": [
    "def pregunta_simetrica(lista):\n",
    "    if lista == lista[::-1]:\n",
    "        return True, len(lista)\n",
    "    \n",
    "    else:\n",
    "        return False, None\n",
    "\n",
    "# EJEMPLO:\n",
    "\n",
    "lista_numeros = [2,4,6,4,2]\n",
    "simetrica, num_elementos = pregunta_simetrica(lista_numeros)\n",
    "\n",
    "if simetrica:\n",
    "    print(\"Sí, es simétrica y contiene {} elementos.\".format(num_elementos))\n",
    "else:\n",
    "    print(\"No es simétrica\")"
   ]
  },
  {
   "cell_type": "markdown",
   "id": "0f6ede63",
   "metadata": {},
   "source": [
    "### *EXERCICI 5\n",
    "\n",
    "#### Crea una funció que donada una llista, et digui quants números coincideixen amb la seva posició. Per exemple [3,4,2,0,2,3,6] el 2 i el 6 coincideixen"
   ]
  },
  {
   "cell_type": "code",
   "execution_count": 26,
   "id": "d5869b51",
   "metadata": {},
   "outputs": [
    {
     "name": "stdout",
     "output_type": "stream",
     "text": [
      "Coinciden con su posición, 2 números.\n"
     ]
    }
   ],
   "source": [
    "def num_coinciden_pos(lista):\n",
    "    coincidencias = 0\n",
    "    for p, num in enumerate(lista):\n",
    "        if p == num:\n",
    "            coincidencias += 1\n",
    "    return coincidencias\n",
    "\n",
    "# Ejemplo de uso\n",
    "mi_lista = [3, 4, 2, 0, 2, 3, 6]\n",
    "resultado = num_coinciden_pos(mi_lista)\n",
    "print(\"Coinciden con su posición, {} números.\".format(resultado))"
   ]
  }
 ],
 "metadata": {
  "kernelspec": {
   "display_name": "Python 3 (ipykernel)",
   "language": "python",
   "name": "python3"
  },
  "language_info": {
   "codemirror_mode": {
    "name": "ipython",
    "version": 3
   },
   "file_extension": ".py",
   "mimetype": "text/x-python",
   "name": "python",
   "nbconvert_exporter": "python",
   "pygments_lexer": "ipython3",
   "version": "3.10.9"
  }
 },
 "nbformat": 4,
 "nbformat_minor": 5
}
